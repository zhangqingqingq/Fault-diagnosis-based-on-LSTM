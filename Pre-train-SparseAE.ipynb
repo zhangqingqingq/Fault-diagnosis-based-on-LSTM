{
 "cells": [
  {
   "cell_type": "code",
   "execution_count": 1,
   "metadata": {},
   "outputs": [],
   "source": [
    "import numpy as np\n",
    "import torch\n",
    "from torch import nn\n",
    "import torch.nn.functional as F"
   ]
  },
  {
   "cell_type": "code",
   "execution_count": 2,
   "metadata": {},
   "outputs": [
    {
     "name": "stdout",
     "output_type": "stream",
     "text": [
      "(10580, 52) (10580,) (21120, 52) (21120,)\n",
      "float64 int32 float64 int32\n"
     ]
    }
   ],
   "source": [
    "data=np.load(\"data.npz\")\n",
    "traindata_x,traindata_y,testdata_x,testdata_y=data['arr_0'],data['arr_1'],data['arr_2'],data['arr_3']\n",
    "print(traindata_x.shape,traindata_y.shape,testdata_x.shape,testdata_y.shape)\n",
    "print(traindata_x.dtype,traindata_y.dtype,testdata_x.dtype,testdata_y.dtype)"
   ]
  },
  {
   "cell_type": "code",
   "execution_count": 3,
   "metadata": {},
   "outputs": [
    {
     "name": "stdout",
     "output_type": "stream",
     "text": [
      "[0]\n",
      "(1460, 52)\n",
      "(52,) [  2.50552740e-01   3.66219884e+03   4.51115521e+03   9.34419719e+00\n",
      "   2.69040370e+01   4.23314048e+01   2.70557048e+03   7.50073514e+01\n",
      "   1.20399925e+02   3.37109432e-01   8.00884740e+01   4.99755822e+01\n",
      "   2.63433527e+03   2.51636007e+01   4.99697233e+01   3.10275315e+03\n",
      "   2.29077425e+01   6.58077445e+01   2.32738164e+02   3.41440199e+02\n",
      "   9.46041801e+01   7.72817096e+01   3.21870507e+01   8.89535233e+00\n",
      "   2.63963192e+01   6.88255123e+00   1.87724342e+01   1.65560877e+00\n",
      "   3.29736041e+01   1.38240178e+01   2.39995384e+01   1.25287038e+00\n",
      "   1.85580863e+01   2.26288384e+00   4.83894397e+00   2.29874521e+00\n",
      "   1.80560748e-02   8.35738596e-01   9.85035959e-02   5.36895445e+01\n",
      "   4.38784726e+01   6.30245363e+01   5.39925514e+01   2.46546527e+01\n",
      "   6.13084164e+01   2.22389240e+01   4.00393473e+01   3.80281699e+01\n",
      "   4.64639486e+01   4.80833137e+01   4.10995260e+01   1.82237856e+01]\n",
      "(52,) [  3.01024696e-02   3.38759323e+01   3.64990817e+01   7.86022638e-02\n",
      "   2.06218563e-01   2.20639031e-01   6.37429006e+00   5.27823194e-01\n",
      "   1.94389052e-02   1.20228833e-02   2.17201447e-01   1.03418231e+00\n",
      "   6.65453874e+00   1.04794775e+00   1.03268438e+00   5.67667153e+00\n",
      "   6.09749660e-01   4.30666971e-01   1.01193154e+01   1.45083104e+00\n",
      "   1.25229700e-01   2.57506490e-01   2.85734020e-01   1.02353417e-01\n",
      "   2.98132554e-01   1.07357346e-01   2.69229014e-01   2.50213291e-02\n",
      "   3.36220212e-01   1.04039961e-01   3.58473777e-01   1.05219098e-01\n",
      "   3.15674341e-01   2.60315585e-02   6.27972105e-02   5.35306432e-02\n",
      "   9.83249430e-03   1.64273695e-02   9.96705337e-03   5.14985644e-01\n",
      "   5.28223317e-01   5.78276975e-01   4.36691304e-01   2.96633918e+00\n",
      "   1.23161826e+00   4.67541683e-01   1.45614971e+00   3.04341057e+00\n",
      "   2.38994304e+00   2.66616046e+00   5.42958191e-01   1.44592615e+00]\n"
     ]
    }
   ],
   "source": [
    "#求正常样本的均值和方差，并以此为基准对所有数据做标准化\n",
    "normal_samples=np.vstack((traindata_x[:500,:],testdata_x[:960,:]))\n",
    "normal_labels=np.hstack((traindata_y[:500],testdata_y[:960]))\n",
    "print(np.unique(normal_labels))\n",
    "print(normal_samples.shape)\n",
    "\n",
    "mean=np.mean(normal_samples,axis=0)\n",
    "print(mean.shape,mean)\n",
    "std=np.std(normal_samples,axis=0)\n",
    "print(std.shape,std)\n",
    "\n",
    "#print('origan:',traindata_x[:2,:])\n",
    "traindata_x2=(traindata_x-mean)/std\n",
    "testdata_x2=(testdata_x-mean)/std\n",
    "#print('processed',traindata_x2[:2,:])"
   ]
  },
  {
   "cell_type": "code",
   "execution_count": 4,
   "metadata": {},
   "outputs": [
    {
     "name": "stdout",
     "output_type": "stream",
     "text": [
      "0.896539415734\n",
      "[0.89653941573413765, 24.029732369532045, 65.819791154487547, 1.0279565045668302, 1.8811579179352889, 5.5638191797437813, 478.61055229548663, 14.855833121677694, 24.954151674831035, 1.0470552227072289, 1.9436744498804699, 2.432950621360682, 19.844601105307884, 28.930534099448543, 10.352233514274204, 0.98578593486791088, 1.2289359310400234, 41.114714733961328, 279.33031494071997, 1.1556262698818276, 3.014172580556195, 1.0492646752970702]\n"
     ]
    },
    {
     "data": {
      "image/png": "[encoded data removed]",
      "text/plain": [
       "<matplotlib.figure.Figure at 0x7f778a61da58>"
      ]
     },
     "metadata": {
      "needs_background": "light"
     },
     "output_type": "display_data"
    }
   ],
   "source": [
    "#求每个类别标准化后的norm2，故障和正常数据的norm2有较大差异\n",
    "norm_0=np.mean(traindata_x2[:500,:]**2)\n",
    "print(norm_0)\n",
    "norm=[norm_0]\n",
    "for i in range(1,22):\n",
    "    norm_i=np.mean(traindata_x2[500+(i-1)*480:500+i*480,:]**2)\n",
    "    norm.append(norm_i)\n",
    "print(norm) \n",
    "\n",
    "%matplotlib inline\n",
    "from matplotlib import pyplot as plt\n",
    "\n",
    "fig = plt.figure(figsize=(12,4))\n",
    "plt.plot(norm)\n",
    "plt.show()\n",
    "\n",
    "#！！！猜想：norm2大的类别对应的测试准确率要高一些，是否是正相关的？"
   ]
  },
  {
   "cell_type": "code",
   "execution_count": 5,
   "metadata": {},
   "outputs": [
    {
     "name": "stdout",
     "output_type": "stream",
     "text": [
      "(22, 500, 52) (22, 500, 1)\n",
      "(22, 500, 53)\n"
     ]
    }
   ],
   "source": [
    "#训练集中的故障数据前填充20个零向量，使得训练集为(22, 500, 52)\n",
    "\n",
    "traindata_x_pad=[traindata_x2[:500,:]]\n",
    "traindata_y_pad=[traindata_y[:500]]\n",
    "for i in range(1,22):\n",
    "    data_i=traindata_x2[500+(i-1)*480:500+i*480,:]\n",
    "    #print(data_i.shape)\n",
    "    data_i=np.vstack((np.zeros((20,52)),data_i))\n",
    "    #print(i,data_i.shape)\n",
    "    label_i=traindata_y[500+(i-1)*480:500+i*480]\n",
    "    label_i=np.hstack((np.zeros(20,dtype=np.int32),label_i))\n",
    "    \n",
    "    traindata_x_pad.append(data_i)\n",
    "    traindata_y_pad.append(label_i)\n",
    "\n",
    "traindata_x_pad=np.array(traindata_x_pad)\n",
    "traindata_y_pad=np.array(traindata_y_pad)\n",
    "traindata_y_pad=traindata_y_pad.reshape(traindata_y_pad.shape[0],traindata_y_pad.shape[1],-1)\n",
    "print(traindata_x_pad.shape,traindata_y_pad.shape)\n",
    "\n",
    "dataset1=np.concatenate((traindata_x_pad,traindata_y_pad),axis=2)\n",
    "print(dataset1.shape)"
   ]
  },
  {
   "cell_type": "code",
   "execution_count": 6,
   "metadata": {},
   "outputs": [
    {
     "name": "stdout",
     "output_type": "stream",
     "text": [
      "(21120, 52) (21120,)\n",
      "(22, 960, 52) (22, 960, 1)\n",
      "(22, 960, 53)\n"
     ]
    }
   ],
   "source": [
    "#reshape测试集，使得训练集为(22, 960, 52)\n",
    "print(testdata_x2.shape,testdata_y.shape)\n",
    "\n",
    "testdata_x_pad=testdata_x2.reshape(22,-1,testdata_x2.shape[1])\n",
    "testdata_y_pad=testdata_y.reshape(22,-1,1)\n",
    "print(testdata_x_pad.shape,testdata_y_pad.shape)\n",
    "\n",
    "dataset2=np.concatenate((testdata_x_pad,testdata_y_pad),axis=2)\n",
    "print(dataset2.shape)"
   ]
  },
  {
   "cell_type": "code",
   "execution_count": 7,
   "metadata": {},
   "outputs": [],
   "source": [
    "def create_dataset(dataset, look_back=6):\n",
    "    dataX, dataY = [],[]\n",
    "    for j in range(dataset.shape[0]):\n",
    "        for i in range(dataset.shape[1]-look_back):\n",
    "            a = dataset[j,i:(i + look_back),0:-1]\n",
    "            dataX.append(a)\n",
    "            dataY.append(dataset[j,i:(i + look_back),-1])\n",
    "    \n",
    "    return np.array(dataX), np.array(dataY,dtype=np.int32)\n"
   ]
  },
  {
   "cell_type": "code",
   "execution_count": 8,
   "metadata": {},
   "outputs": [
    {
     "name": "stdout",
     "output_type": "stream",
     "text": [
      "(10868, 6, 52) (10868, 6) float64 int32\n",
      "(20988, 6, 52) (20988, 6) float64 int32\n"
     ]
    }
   ],
   "source": [
    "# 创建好输入输出\n",
    "train_X, train_Y = create_dataset(dataset1)\n",
    "test_X, test_Y = create_dataset(dataset2)\n",
    "print(train_X.shape,train_Y.shape,train_X.dtype,train_Y.dtype)\n",
    "print(test_X.shape,test_Y.shape,test_X.dtype,test_Y.dtype)\n",
    "\n",
    "def onehot_encoder(y,cls=22):#y.shape=(n,l)\n",
    "    \n",
    "    y_hat=np.zeros((y.shape[0],y.shape[1],cls),dtype=np.int)\n",
    "    print(y_hat.shape)\n",
    "    for i in range(y.shape[0]):\n",
    "        for j in range (y.shape[1]):\n",
    "            index=int(y[i,j])\n",
    "            #print(index)\n",
    "            y_hat[i,j,index]=1\n",
    "    return y_hat\n",
    "\n",
    "#x=train_Y[(0,1000,5000),:]\n",
    "#print(x)\n",
    "#trainy_hat=onehot_encoder(x)\n",
    "#print(trainy_hat)"
   ]
  },
  {
   "cell_type": "code",
   "execution_count": 9,
   "metadata": {},
   "outputs": [
    {
     "name": "stdout",
     "output_type": "stream",
     "text": [
      "(31856, 6, 52) (31856, 6)\n",
      "(25484, 6, 52) (6372, 6, 52) (25484, 6) (6372, 6)\n"
     ]
    },
    {
     "name": "stderr",
     "output_type": "stream",
     "text": [
      "/home/zqq/miniconda3/lib/python3.6/site-packages/sklearn/cross_validation.py:41: DeprecationWarning: This module was deprecated in version 0.18 in favor of the model_selection module into which all the refactored classes and functions are moved. Also note that the interface of the new CV iterators are different from that of this module. This module will be removed in 0.20.\n",
      "  \"This module will be removed in 0.20.\", DeprecationWarning)\n"
     ]
    }
   ],
   "source": [
    "data_all = np.concatenate((train_X,test_X),axis=0)\n",
    "label_all = np.concatenate((train_Y,test_Y),axis=0)\n",
    "print(data_all.shape,label_all.shape)\n",
    "\n",
    "#重新划分训练集和测试集\n",
    "from sklearn.cross_validation import train_test_split\n",
    "train_X,test_X,train_Y,test_Y=train_test_split(data_all, label_all, test_size=0.2, random_state=99) \n",
    "print(train_X.shape,test_X.shape,train_Y.shape,test_Y.shape)\n"
   ]
  },
  {
   "cell_type": "code",
   "execution_count": 10,
   "metadata": {},
   "outputs": [
    {
     "name": "stdout",
     "output_type": "stream",
     "text": [
      "torch.float32 torch.Size([25484, 6, 52])\n",
      "torch.float32 torch.Size([6372, 6, 52])\n",
      "torch.int64 torch.Size([25484, 6])\n",
      "torch.int64 torch.Size([6372, 6])\n"
     ]
    }
   ],
   "source": [
    "#转换成Tensor\n",
    "train_x = (torch.from_numpy(train_X)).float()\n",
    "train_y = torch.from_numpy(train_Y).long()\n",
    "test_x = (torch.from_numpy(test_X)).float()\n",
    "test_y = torch.from_numpy(test_Y).long()\n",
    "print(train_x.dtype,train_x.size())\n",
    "print(test_x.dtype,test_x.size())\n",
    "print(train_y.dtype,train_y.size())\n",
    "print(test_y.dtype,test_y.size())"
   ]
  },
  {
   "cell_type": "code",
   "execution_count": 11,
   "metadata": {},
   "outputs": [],
   "source": [
    "# 先转换成 torch 能识别的 Dataset\n",
    "import torch.utils.data as Data\n",
    "\n",
    "train_dataset = Data.TensorDataset(train_x,train_y)\n",
    "# 把 dataset 放入 DataLoader\n",
    "train_loader = Data.DataLoader(\n",
    "    dataset=train_dataset,      # torch TensorDataset format\n",
    "    batch_size=64,      # mini batch size\n",
    "    shuffle=True,               # 要不要打乱数据 (打乱比较好)\n",
    "    num_workers=2,              # 多线程来读数据\n",
    ")\n",
    "test_dataset = Data.TensorDataset(test_x,test_y)\n",
    "# 把 dataset 放入 DataLoader\n",
    "test_loader = Data.DataLoader(\n",
    "    dataset=test_dataset,      # torch TensorDataset format\n",
    "    batch_size=64,      # mini batch size\n",
    "    #shuffle=True,               # 要不要打乱数据 (打乱比较好)\n",
    "    num_workers=2,              # 多线程来读数据\n",
    ")"
   ]
  },
  {
   "cell_type": "code",
   "execution_count": 12,
   "metadata": {},
   "outputs": [
    {
     "name": "stdout",
     "output_type": "stream",
     "text": [
      "cuda:0\n"
     ]
    }
   ],
   "source": [
    "device = torch.device(\"cuda:0\" if torch.cuda.is_available() else \"cpu\")\n",
    "#device = torch.device(\"cpu\")\n",
    "print(device)"
   ]
  },
  {
   "cell_type": "code",
   "execution_count": 13,
   "metadata": {},
   "outputs": [],
   "source": [
    "from collections import OrderedDict\n",
    "\n",
    "class Sparse_autoencoder(nn.Module):\n",
    "    def __init__(self, input_size=52, embedding_size=30, output_size=22, device=device):\n",
    "        super(Sparse_autoencoder,self).__init__()\n",
    "        self.input_size=input_size\n",
    "        self.embedding_size=embedding_size\n",
    "        self.output_size=output_size\n",
    "        self.device=device\n",
    "        \n",
    "        self.dropout = nn.Dropout(p=0.2)  #1/(1-p)\n",
    "        self.encoder=nn.Sequential(OrderedDict([\n",
    "                    ('sparse1',nn.Linear(self.input_size, self.input_size)),\n",
    "                    ('action1',nn.Tanh()),\n",
    "                    ('sparse2',nn.Linear(self.input_size, self.embedding_size)),\n",
    "                    ('action2',nn.Tanh())\n",
    "                    ]))\n",
    "        self.decoder=nn.Sequential(OrderedDict([\n",
    "                    ('fc1',nn.Linear(self.embedding_size, self.input_size)),\n",
    "                    ('action3',nn.Tanh()),\n",
    "                    ('fc2',nn.Linear(self.input_size, self.input_size))\n",
    "                    ]))\n",
    "        self.reg = nn.Linear(self.embedding_size, self.output_size)\n",
    "        \n",
    "    def init_weights(self, initrange=0.2):\n",
    "        \"\"\"Initialize weights.\"\"\"\n",
    "        self.encoder.sparse1.weight.data.uniform_(-initrange, initrange)\n",
    "        self.encoder.sparse1.bias.data.uniform_(-initrange, initrange)\n",
    "        self.encoder.sparse2.weight.data.uniform_(-initrange, initrange)\n",
    "        self.encoder.sparse2.bias.data.uniform_(-initrange, initrange) \n",
    "        self.decoder.fc1.weight.data.uniform_(-initrange, initrange)\n",
    "        self.decoder.fc1.bias.data.uniform_(-initrange, initrange)\n",
    "        self.decoder.fc2.weight.data.uniform_(-initrange, initrange)\n",
    "        self.decoder.fc2.bias.data.uniform_(-initrange, initrange)\n",
    "        self.reg.weight.data.uniform_(-initrange, initrange)\n",
    "        self.reg.bias.data.uniform_(-initrange, initrange)\n",
    "        \n",
    "    def forward(self, x): \n",
    "        b, l, h = x.shape  #(batch, seq, hidden)\n",
    "        x = x.contiguous().view(l*b,-1) \n",
    "        e = self.encoder(self.dropout(x))\n",
    "        x_bar = self.decoder(e)\n",
    "        #out = self.reg(self.dropout(e))\n",
    "        out = self.reg(e)\n",
    "        x_bar = x_bar.contiguous().view(b,l,-1)\n",
    "        \n",
    "        return x_bar,e,out\n",
    "    \n",
    "    def load_model(self, load_dir):\n",
    "        if self.device.type == 'cuda':\n",
    "            self.load_state_dict(torch.load(open(load_dir, 'rb')))\n",
    "        else:\n",
    "            self.load_state_dict(torch.load(open(load_dir, 'rb'), map_location=lambda storage, loc: storage))\n",
    "\n",
    "    def save_model(self, save_dir):\n",
    "        torch.save(self.state_dict(), open(save_dir, 'wb'))\n",
    "        \n",
    "Sparse_AE = Sparse_autoencoder(device=device)\n",
    "Sparse_AE.to(device)\n",
    "Loss_MSE = nn.MSELoss()\n",
    "Loss_CE = nn.CrossEntropyLoss()\n",
    "optimizer_SparseAE = torch.optim.SGD(Sparse_AE.parameters(), lr=1e-3,momentum=0.9)\n",
    "              "
   ]
  },
  {
   "cell_type": "code",
   "execution_count": 14,
   "metadata": {},
   "outputs": [
    {
     "name": "stdout",
     "output_type": "stream",
     "text": [
      "torch.Size([2, 2, 2])\n",
      "param_norm tensor(12.)\n",
      "L1 tensor(12.)\n",
      "tensor(12.)\n"
     ]
    }
   ],
   "source": [
    "#稀疏编码器加L1约束\n",
    "def L1_penalty(param, debug=False):\n",
    "    if isinstance(param, torch.Tensor):\n",
    "        param= [param]\n",
    "    total_L1_norm=0\n",
    "    for p in filter(lambda p: p.data is not None, param):\n",
    "        param_norm = p.data.norm(p=1) \n",
    "        if debug:print('param_norm',param_norm)\n",
    "        total_L1_norm += param_norm\n",
    "        if debug:print('L1',total_L1_norm)\n",
    "        \n",
    "    return total_L1_norm\n",
    "\n",
    "test=torch.tensor([[[-1.0,-2.0],\n",
    "                   [1.0,2.0]],\n",
    "                   [[-1.0,-2.0],\n",
    "                   [1.0,2.0]]])\n",
    "print(test.shape)\n",
    "print(L1_penalty(test,debug=True))"
   ]
  },
  {
   "cell_type": "code",
   "execution_count": 15,
   "metadata": {},
   "outputs": [],
   "source": [
    "def val_AE(net,test_loader,lambd1,lambd2):\n",
    "    Losses=[]\n",
    "    Acces=[]\n",
    "    Acc=[0]*22 \n",
    "    Det=[0]*22\n",
    "    Total=[0]*22\n",
    "    #net.eval()\n",
    "    with torch.no_grad():\n",
    "        for step, (batch_x, batch_y) in enumerate(test_loader):\n",
    "          #if step<3:\n",
    "            batch_x=batch_x.to(device)\n",
    "            batch_y=batch_y.to(device)\n",
    "            batch_y=batch_y.view(-1)\n",
    "            \n",
    "            x_bar,embedding,out = net(batch_x)\n",
    "            Loss_L1_penalty = lambd1 * L1_penalty(embedding)\n",
    "            loss_L2 = Loss_MSE(x_bar,batch_x)            \n",
    "            loss_CE = lambd2 * Loss_CE(out,batch_y)\n",
    "            loss = loss_L2 + Loss_L1_penalty + loss_CE\n",
    "            total = batch_y.size(0)\n",
    "            Losses.append(loss.item()/total)\n",
    "            \n",
    "            out=F.softmax(out,1)\n",
    "            _,index=out.max(dim=1)\n",
    "            acc=(index==batch_y).sum().cpu().numpy() \n",
    "            Acces.append(acc/total)\n",
    "            \n",
    "              #按类别统计正确率\n",
    "            for i in range(batch_y.shape[0]):\n",
    "                Total[batch_y[i]]+=1\n",
    "                if index[i]==batch_y[i]:\n",
    "                    Acc[batch_y[i]]+=1\n",
    "                if (index[i]>0)==(batch_y[i]>0):\n",
    "                    Det[batch_y[i]]+=1\n",
    "    for i in range(22):\n",
    "        Acc[i]/=Total[i]\n",
    "        Det[i]/=Total[i]\n",
    "   \n",
    "        #print(Losses)\n",
    "    return np.mean(Losses),np.mean(Acces),Acc,Det\n",
    "\n",
    "#Loss,ACC = val_AE(net,test_loader)   \n",
    "#print(Loss)"
   ]
  },
  {
   "cell_type": "code",
   "execution_count": 16,
   "metadata": {
    "scrolled": true
   },
   "outputs": [
    {
     "name": "stdout",
     "output_type": "stream",
     "text": [
      "Epoch:0, TrainLoss:0.91296,\n",
      "Epoch:1, TrainLoss:0.59019, TestLoss:0.51648, TrainAcc:0.50265, TestAcc:0.56622,\n",
      "Epoch:2, TrainLoss:0.49025, TestLoss:0.47414, TrainAcc:0.58961, TestAcc:0.60229,\n",
      "Epoch:3, TrainLoss:0.46270, TestLoss:0.44581, TrainAcc:0.61246, TestAcc:0.62229,\n",
      "Epoch:4, TrainLoss:0.43340, TestLoss:0.42678, TrainAcc:0.62913, TestAcc:0.63584,\n",
      "Epoch:5, TrainLoss:0.41708, TestLoss:0.40792, TrainAcc:0.64108, TestAcc:0.64843,\n",
      "Epoch:6, TrainLoss:0.39962, TestLoss:0.39398, TrainAcc:0.65190, TestAcc:0.65767,\n",
      "Epoch:7, TrainLoss:0.39037, TestLoss:0.38569, TrainAcc:0.65865, TestAcc:0.66087,\n",
      "Epoch:8, TrainLoss:0.37653, TestLoss:0.36990, TrainAcc:0.66545, TestAcc:0.67310,\n",
      "Epoch:9, TrainLoss:0.36672, TestLoss:0.35913, TrainAcc:0.67133, TestAcc:0.67731,\n",
      "tensor(27.0210, device='cuda:0') tensor(0.9394, device='cuda:0') tensor(106.1294, device='cuda:0') tensor(134.0897, device='cuda:0')\n",
      "Epoch:10, TrainLoss:0.36123, TestLoss:0.35450, TrainAcc:0.67370, TestAcc:0.67712,\n",
      "Epoch:11, TrainLoss:0.35178, TestLoss:0.34917, TrainAcc:0.67824, TestAcc:0.68032,\n",
      "Epoch:12, TrainLoss:0.34559, TestLoss:0.34527, TrainAcc:0.68121, TestAcc:0.67993,\n",
      "Epoch:13, TrainLoss:0.34062, TestLoss:0.34115, TrainAcc:0.68215, TestAcc:0.68566,\n",
      "Epoch:14, TrainLoss:0.33434, TestLoss:0.33353, TrainAcc:0.68485, TestAcc:0.68912,\n",
      "Epoch:15, TrainLoss:0.33325, TestLoss:0.33028, TrainAcc:0.68442, TestAcc:0.68602,\n",
      "Epoch:16, TrainLoss:0.32637, TestLoss:0.32987, TrainAcc:0.68667, TestAcc:0.68317,\n",
      "Epoch:17, TrainLoss:0.32446, TestLoss:0.32767, TrainAcc:0.68652, TestAcc:0.68344,\n",
      "Epoch:18, TrainLoss:0.32211, TestLoss:0.31581, TrainAcc:0.68884, TestAcc:0.69531,\n",
      "Epoch:19, TrainLoss:0.31834, TestLoss:0.31731, TrainAcc:0.68817, TestAcc:0.68934,\n",
      "tensor(15.6910, device='cuda:0') tensor(0.9473, device='cuda:0') tensor(108.8327, device='cuda:0') tensor(125.4710, device='cuda:0')\n",
      "Epoch:20, TrainLoss:0.31669, TestLoss:0.31472, TrainAcc:0.68786, TestAcc:0.69308,\n",
      "Epoch:21, TrainLoss:0.31027, TestLoss:0.31060, TrainAcc:0.69157, TestAcc:0.69195,\n",
      "Epoch:22, TrainLoss:0.31101, TestLoss:0.31106, TrainAcc:0.68932, TestAcc:0.68791,\n",
      "Epoch:23, TrainLoss:0.30656, TestLoss:0.30570, TrainAcc:0.69229, TestAcc:0.69471,\n",
      "Epoch:24, TrainLoss:0.30613, TestLoss:0.30963, TrainAcc:0.69339, TestAcc:0.69210,\n",
      "Epoch:25, TrainLoss:0.30322, TestLoss:0.30449, TrainAcc:0.69283, TestAcc:0.69178,\n",
      "Epoch:26, TrainLoss:0.30219, TestLoss:0.30042, TrainAcc:0.69307, TestAcc:0.69661,\n",
      "Epoch:27, TrainLoss:0.30102, TestLoss:0.30423, TrainAcc:0.69413, TestAcc:0.69005,\n",
      "Epoch:28, TrainLoss:0.29892, TestLoss:0.30069, TrainAcc:0.69380, TestAcc:0.69787,\n",
      "Epoch:29, TrainLoss:0.29922, TestLoss:0.29526, TrainAcc:0.69284, TestAcc:0.69943,\n",
      "tensor(7.8791, device='cuda:0') tensor(0.9538, device='cuda:0') tensor(123.4552, device='cuda:0') tensor(132.2881, device='cuda:0')\n",
      "Epoch:30, TrainLoss:0.29726, TestLoss:0.29596, TrainAcc:0.69454, TestAcc:0.69659,\n",
      "Epoch:31, TrainLoss:0.29556, TestLoss:0.29914, TrainAcc:0.69499, TestAcc:0.69458,\n",
      "Epoch:32, TrainLoss:0.29558, TestLoss:0.29484, TrainAcc:0.69501, TestAcc:0.70037,\n",
      "Epoch:33, TrainLoss:0.29364, TestLoss:0.29287, TrainAcc:0.69475, TestAcc:0.69859,\n",
      "Epoch:34, TrainLoss:0.29118, TestLoss:0.29047, TrainAcc:0.69777, TestAcc:0.70218,\n",
      "Epoch:35, TrainLoss:0.29220, TestLoss:0.29247, TrainAcc:0.69692, TestAcc:0.69569,\n",
      "Epoch:36, TrainLoss:0.29016, TestLoss:0.29140, TrainAcc:0.69734, TestAcc:0.69547,\n",
      "Epoch:37, TrainLoss:0.28867, TestLoss:0.29466, TrainAcc:0.69869, TestAcc:0.69525,\n",
      "Epoch:38, TrainLoss:0.28921, TestLoss:0.28800, TrainAcc:0.69789, TestAcc:0.69756,\n",
      "Epoch:39, TrainLoss:0.28633, TestLoss:0.28879, TrainAcc:0.69950, TestAcc:0.69652,\n",
      "tensor(11.0520, device='cuda:0') tensor(0.9568, device='cuda:0') tensor(100.7544, device='cuda:0') tensor(112.7633, device='cuda:0')\n",
      "Epoch:40, TrainLoss:0.28777, TestLoss:0.28964, TrainAcc:0.69758, TestAcc:0.69983,\n",
      "Epoch:41, TrainLoss:0.28545, TestLoss:0.28644, TrainAcc:0.69821, TestAcc:0.69943,\n",
      "Epoch:42, TrainLoss:0.28602, TestLoss:0.28652, TrainAcc:0.69926, TestAcc:0.70184,\n",
      "Epoch:43, TrainLoss:0.28536, TestLoss:0.28222, TrainAcc:0.70033, TestAcc:0.70396,\n",
      "Epoch:44, TrainLoss:0.28477, TestLoss:0.28459, TrainAcc:0.70006, TestAcc:0.70239,\n",
      "Epoch:45, TrainLoss:0.28297, TestLoss:0.28990, TrainAcc:0.70021, TestAcc:0.69336,\n",
      "Epoch:46, TrainLoss:0.28261, TestLoss:0.28225, TrainAcc:0.70077, TestAcc:0.70372,\n",
      "Epoch:47, TrainLoss:0.28132, TestLoss:0.28014, TrainAcc:0.70086, TestAcc:0.70502,\n",
      "Epoch:48, TrainLoss:0.28358, TestLoss:0.28404, TrainAcc:0.69965, TestAcc:0.69645,\n",
      "Epoch:49, TrainLoss:0.28344, TestLoss:0.28454, TrainAcc:0.69944, TestAcc:0.69722,\n",
      "tensor(7.3460, device='cuda:0') tensor(0.9682, device='cuda:0') tensor(88.2713, device='cuda:0') tensor(96.5854, device='cuda:0')\n",
      "Epoch:50, TrainLoss:0.28100, TestLoss:0.28141, TrainAcc:0.70022, TestAcc:0.70232,\n",
      "Epoch:51, TrainLoss:0.28009, TestLoss:0.28050, TrainAcc:0.70150, TestAcc:0.70505,\n",
      "Epoch:52, TrainLoss:0.27975, TestLoss:0.28098, TrainAcc:0.70233, TestAcc:0.70027,\n",
      "Epoch:53, TrainLoss:0.28054, TestLoss:0.27842, TrainAcc:0.70098, TestAcc:0.70598,\n",
      "Epoch:54, TrainLoss:0.27839, TestLoss:0.27928, TrainAcc:0.70241, TestAcc:0.70429,\n",
      "Epoch:55, TrainLoss:0.28025, TestLoss:0.28043, TrainAcc:0.70129, TestAcc:0.70019,\n",
      "Epoch:56, TrainLoss:0.27801, TestLoss:0.27997, TrainAcc:0.70226, TestAcc:0.70264,\n",
      "Epoch:57, TrainLoss:0.27658, TestLoss:0.27689, TrainAcc:0.70460, TestAcc:0.70738,\n",
      "Epoch:58, TrainLoss:0.27640, TestLoss:0.27545, TrainAcc:0.70313, TestAcc:0.71078,\n",
      "Epoch:59, TrainLoss:0.27794, TestLoss:0.27982, TrainAcc:0.70296, TestAcc:0.70221,\n",
      "tensor(6.4595, device='cuda:0') tensor(0.9728, device='cuda:0') tensor(91.6053, device='cuda:0') tensor(99.0377, device='cuda:0')\n",
      "Epoch:60, TrainLoss:0.27661, TestLoss:0.28037, TrainAcc:0.70439, TestAcc:0.70210,\n",
      "Epoch:61, TrainLoss:0.27679, TestLoss:0.27406, TrainAcc:0.70281, TestAcc:0.70752,\n",
      "Epoch:62, TrainLoss:0.27772, TestLoss:0.27804, TrainAcc:0.70218, TestAcc:0.70186,\n",
      "Epoch:63, TrainLoss:0.27629, TestLoss:0.27657, TrainAcc:0.70257, TestAcc:0.70768,\n",
      "Epoch:64, TrainLoss:0.27769, TestLoss:0.27731, TrainAcc:0.70136, TestAcc:0.70747,\n",
      "Epoch:65, TrainLoss:0.27569, TestLoss:0.27686, TrainAcc:0.70309, TestAcc:0.70535,\n",
      "Epoch:66, TrainLoss:0.27367, TestLoss:0.27822, TrainAcc:0.70675, TestAcc:0.70387,\n",
      "Epoch:67, TrainLoss:0.27519, TestLoss:0.27529, TrainAcc:0.70309, TestAcc:0.70536,\n",
      "Epoch:68, TrainLoss:0.27420, TestLoss:0.27514, TrainAcc:0.70495, TestAcc:0.70431,\n",
      "Epoch:69, TrainLoss:0.27626, TestLoss:0.27424, TrainAcc:0.70252, TestAcc:0.70552,\n",
      "tensor(8.3146, device='cuda:0') tensor(0.9584, device='cuda:0') tensor(91.0126, device='cuda:0') tensor(100.2856, device='cuda:0')\n",
      "Epoch:70, TrainLoss:0.27477, TestLoss:0.27315, TrainAcc:0.70506, TestAcc:0.70816,\n",
      "Epoch:71, TrainLoss:0.27335, TestLoss:0.27268, TrainAcc:0.70495, TestAcc:0.70919,\n",
      "Epoch:72, TrainLoss:0.27409, TestLoss:0.27768, TrainAcc:0.70444, TestAcc:0.69856,\n",
      "Epoch:73, TrainLoss:0.27317, TestLoss:0.27559, TrainAcc:0.70538, TestAcc:0.70365,\n",
      "Epoch:74, TrainLoss:0.27460, TestLoss:0.27295, TrainAcc:0.70425, TestAcc:0.70797,\n",
      "Epoch:75, TrainLoss:0.27465, TestLoss:0.27336, TrainAcc:0.70452, TestAcc:0.70840,\n",
      "Epoch:76, TrainLoss:0.27256, TestLoss:0.27879, TrainAcc:0.70633, TestAcc:0.70362,\n",
      "Epoch:77, TrainLoss:0.27536, TestLoss:0.27646, TrainAcc:0.70531, TestAcc:0.70218,\n",
      "Epoch:78, TrainLoss:0.27350, TestLoss:0.27403, TrainAcc:0.70442, TestAcc:0.70224,\n",
      "Epoch:79, TrainLoss:0.27498, TestLoss:0.26999, TrainAcc:0.70330, TestAcc:0.71028,\n",
      "tensor(5.0731, device='cuda:0') tensor(0.9586, device='cuda:0') tensor(117.3328, device='cuda:0') tensor(123.3644, device='cuda:0')\n",
      "Epoch:80, TrainLoss:0.27123, TestLoss:0.27539, TrainAcc:0.70583, TestAcc:0.70553,\n",
      "Epoch:81, TrainLoss:0.27165, TestLoss:0.27181, TrainAcc:0.70508, TestAcc:0.71048,\n",
      "Epoch:82, TrainLoss:0.27277, TestLoss:0.27318, TrainAcc:0.70463, TestAcc:0.70782,\n",
      "Epoch:83, TrainLoss:0.27092, TestLoss:0.27053, TrainAcc:0.70544, TestAcc:0.70870,\n",
      "Epoch:84, TrainLoss:0.27031, TestLoss:0.27008, TrainAcc:0.70569, TestAcc:0.71052,\n",
      "Epoch:85, TrainLoss:0.26995, TestLoss:0.27929, TrainAcc:0.70619, TestAcc:0.69999,\n",
      "Epoch:86, TrainLoss:0.27270, TestLoss:0.27519, TrainAcc:0.70458, TestAcc:0.70665,\n",
      "Epoch:87, TrainLoss:0.27183, TestLoss:0.27461, TrainAcc:0.70655, TestAcc:0.70485,\n"
     ]
    },
    {
     "name": "stdout",
     "output_type": "stream",
     "text": [
      "Epoch:88, TrainLoss:0.27171, TestLoss:0.27080, TrainAcc:0.70674, TestAcc:0.70905,\n",
      "Epoch:89, TrainLoss:0.27026, TestLoss:0.26910, TrainAcc:0.70613, TestAcc:0.71026,\n",
      "tensor(8.2052, device='cuda:0') tensor(0.9676, device='cuda:0') tensor(78.4314, device='cuda:0') tensor(87.6043, device='cuda:0')\n",
      "Epoch:90, TrainLoss:0.26972, TestLoss:0.27211, TrainAcc:0.70765, TestAcc:0.70480,\n",
      "Epoch:91, TrainLoss:0.27470, TestLoss:0.26881, TrainAcc:0.70192, TestAcc:0.71109,\n",
      "Epoch:92, TrainLoss:0.27234, TestLoss:0.27145, TrainAcc:0.70653, TestAcc:0.70652,\n",
      "Epoch:93, TrainLoss:0.26903, TestLoss:0.27078, TrainAcc:0.70719, TestAcc:0.70867,\n",
      "Epoch:94, TrainLoss:0.26864, TestLoss:0.27436, TrainAcc:0.70911, TestAcc:0.70477,\n",
      "Epoch:95, TrainLoss:0.27121, TestLoss:0.27263, TrainAcc:0.70681, TestAcc:0.70588,\n",
      "Epoch:96, TrainLoss:0.26951, TestLoss:0.27053, TrainAcc:0.70750, TestAcc:0.70915,\n",
      "Epoch:97, TrainLoss:0.26898, TestLoss:0.27293, TrainAcc:0.70676, TestAcc:0.70392,\n",
      "Epoch:98, TrainLoss:0.27074, TestLoss:0.26920, TrainAcc:0.70618, TestAcc:0.70802,\n",
      "Epoch:99, TrainLoss:0.26891, TestLoss:0.26948, TrainAcc:0.70574, TestAcc:0.71185,\n",
      "tensor(5.3847, device='cuda:0') tensor(0.9585, device='cuda:0') tensor(96.3650, device='cuda:0') tensor(102.7082, device='cuda:0')\n",
      "Epoch:100, TrainLoss:0.26953, TestLoss:0.26783, TrainAcc:0.70745, TestAcc:0.71076,\n",
      "Epoch:101, TrainLoss:0.27087, TestLoss:0.26966, TrainAcc:0.70668, TestAcc:0.70804,\n",
      "Epoch:102, TrainLoss:0.26834, TestLoss:0.27147, TrainAcc:0.70762, TestAcc:0.70876,\n",
      "Epoch:103, TrainLoss:0.26775, TestLoss:0.26695, TrainAcc:0.70770, TestAcc:0.71062,\n",
      "Epoch:104, TrainLoss:0.26786, TestLoss:0.26685, TrainAcc:0.70827, TestAcc:0.71072,\n",
      "Epoch:105, TrainLoss:0.26916, TestLoss:0.27038, TrainAcc:0.70903, TestAcc:0.70882,\n",
      "Epoch:106, TrainLoss:0.26977, TestLoss:0.26635, TrainAcc:0.70606, TestAcc:0.71171,\n",
      "Epoch:107, TrainLoss:0.26794, TestLoss:0.26859, TrainAcc:0.70707, TestAcc:0.71216,\n",
      "Epoch:108, TrainLoss:0.26739, TestLoss:0.27047, TrainAcc:0.70713, TestAcc:0.70633,\n",
      "Epoch:109, TrainLoss:0.26826, TestLoss:0.26665, TrainAcc:0.70629, TestAcc:0.71129,\n",
      "tensor(4.2581, device='cuda:0') tensor(0.9736, device='cuda:0') tensor(89.8288, device='cuda:0') tensor(95.0604, device='cuda:0')\n",
      "Epoch:110, TrainLoss:0.26495, TestLoss:0.26634, TrainAcc:0.71077, TestAcc:0.71190,\n",
      "Epoch:111, TrainLoss:0.26482, TestLoss:0.26925, TrainAcc:0.71001, TestAcc:0.71092,\n",
      "Epoch:112, TrainLoss:0.26838, TestLoss:0.26534, TrainAcc:0.70873, TestAcc:0.70961,\n",
      "Epoch:113, TrainLoss:0.26769, TestLoss:0.27026, TrainAcc:0.70908, TestAcc:0.70652,\n",
      "Epoch:114, TrainLoss:0.26652, TestLoss:0.26813, TrainAcc:0.70897, TestAcc:0.70826,\n",
      "Epoch:115, TrainLoss:0.26703, TestLoss:0.26924, TrainAcc:0.70917, TestAcc:0.70970,\n",
      "Epoch:116, TrainLoss:0.26742, TestLoss:0.26973, TrainAcc:0.70782, TestAcc:0.70788,\n",
      "Epoch:117, TrainLoss:0.26758, TestLoss:0.27248, TrainAcc:0.70740, TestAcc:0.69733,\n",
      "Epoch:118, TrainLoss:0.26630, TestLoss:0.26605, TrainAcc:0.70945, TestAcc:0.71334,\n",
      "Epoch:119, TrainLoss:0.26430, TestLoss:0.26898, TrainAcc:0.71207, TestAcc:0.70360,\n",
      "tensor(6.6365, device='cuda:0') tensor(0.9579, device='cuda:0') tensor(87.9400, device='cuda:0') tensor(95.5344, device='cuda:0')\n",
      "Epoch:120, TrainLoss:0.26455, TestLoss:0.27056, TrainAcc:0.70929, TestAcc:0.70857,\n",
      "Epoch:121, TrainLoss:0.26744, TestLoss:0.27152, TrainAcc:0.71048, TestAcc:0.70511,\n",
      "Epoch:122, TrainLoss:0.26557, TestLoss:0.26695, TrainAcc:0.71025, TestAcc:0.70973,\n",
      "Epoch:123, TrainLoss:0.26542, TestLoss:0.26888, TrainAcc:0.70922, TestAcc:0.70707,\n",
      "Epoch:124, TrainLoss:0.26570, TestLoss:0.26415, TrainAcc:0.70791, TestAcc:0.71484,\n",
      "Epoch:125, TrainLoss:0.26467, TestLoss:0.26673, TrainAcc:0.71051, TestAcc:0.71026,\n",
      "Epoch:126, TrainLoss:0.26600, TestLoss:0.26338, TrainAcc:0.70886, TestAcc:0.71409,\n",
      "Epoch:127, TrainLoss:0.26701, TestLoss:0.26367, TrainAcc:0.70872, TestAcc:0.71450,\n",
      "Epoch:128, TrainLoss:0.26753, TestLoss:0.26368, TrainAcc:0.70823, TestAcc:0.71207,\n",
      "Epoch:129, TrainLoss:0.26582, TestLoss:0.26253, TrainAcc:0.70879, TestAcc:0.71455,\n",
      "tensor(3.9175, device='cuda:0') tensor(0.9644, device='cuda:0') tensor(99.7990, device='cuda:0') tensor(104.6810, device='cuda:0')\n",
      "Epoch:130, TrainLoss:0.26495, TestLoss:0.26609, TrainAcc:0.70992, TestAcc:0.70999,\n",
      "Epoch:131, TrainLoss:0.26531, TestLoss:0.26352, TrainAcc:0.70976, TestAcc:0.71421,\n",
      "Epoch:132, TrainLoss:0.26484, TestLoss:0.26717, TrainAcc:0.71023, TestAcc:0.70954,\n",
      "Epoch:133, TrainLoss:0.26350, TestLoss:0.26291, TrainAcc:0.71128, TestAcc:0.71595,\n",
      "Epoch:134, TrainLoss:0.26590, TestLoss:0.26565, TrainAcc:0.71041, TestAcc:0.71415,\n",
      "Epoch:135, TrainLoss:0.26238, TestLoss:0.26606, TrainAcc:0.71266, TestAcc:0.71093,\n",
      "Epoch:136, TrainLoss:0.26569, TestLoss:0.26435, TrainAcc:0.70925, TestAcc:0.71315,\n",
      "Epoch:137, TrainLoss:0.26436, TestLoss:0.27002, TrainAcc:0.71020, TestAcc:0.70703,\n",
      "Epoch:138, TrainLoss:0.26394, TestLoss:0.26328, TrainAcc:0.71114, TestAcc:0.71248,\n",
      "Epoch:139, TrainLoss:0.26408, TestLoss:0.26343, TrainAcc:0.71124, TestAcc:0.71326,\n",
      "tensor(5.7564, device='cuda:0') tensor(0.9689, device='cuda:0') tensor(85.3221, device='cuda:0') tensor(92.0474, device='cuda:0')\n",
      "Epoch:140, TrainLoss:0.26372, TestLoss:0.27017, TrainAcc:0.71047, TestAcc:0.70944,\n",
      "Epoch:141, TrainLoss:0.26464, TestLoss:0.26219, TrainAcc:0.71023, TestAcc:0.71598,\n",
      "Epoch:142, TrainLoss:0.26428, TestLoss:0.26693, TrainAcc:0.71196, TestAcc:0.70973,\n",
      "Epoch:143, TrainLoss:0.26382, TestLoss:0.26369, TrainAcc:0.71136, TestAcc:0.71401,\n",
      "Epoch:144, TrainLoss:0.26280, TestLoss:0.26271, TrainAcc:0.71127, TestAcc:0.71593,\n",
      "Epoch:145, TrainLoss:0.26592, TestLoss:0.26590, TrainAcc:0.71048, TestAcc:0.71296,\n",
      "Epoch:146, TrainLoss:0.26332, TestLoss:0.26580, TrainAcc:0.71135, TestAcc:0.70989,\n",
      "Epoch:147, TrainLoss:0.26387, TestLoss:0.27383, TrainAcc:0.71141, TestAcc:0.69361,\n",
      "Epoch:148, TrainLoss:0.26315, TestLoss:0.26242, TrainAcc:0.71094, TestAcc:0.71378,\n",
      "Epoch:149, TrainLoss:0.26533, TestLoss:0.26564, TrainAcc:0.71000, TestAcc:0.71014,\n",
      "tensor(4.3719, device='cuda:0') tensor(0.9573, device='cuda:0') tensor(87.7471, device='cuda:0') tensor(93.0763, device='cuda:0')\n",
      "Epoch:150, TrainLoss:0.26236, TestLoss:0.26782, TrainAcc:0.71253, TestAcc:0.70849,\n",
      "Epoch:151, TrainLoss:0.26163, TestLoss:0.26272, TrainAcc:0.71255, TestAcc:0.71587,\n",
      "Epoch:152, TrainLoss:0.26173, TestLoss:0.26372, TrainAcc:0.71190, TestAcc:0.71266,\n",
      "Epoch:153, TrainLoss:0.26242, TestLoss:0.26205, TrainAcc:0.71161, TestAcc:0.71423,\n",
      "Epoch:154, TrainLoss:0.26273, TestLoss:0.26855, TrainAcc:0.71019, TestAcc:0.70767,\n",
      "Epoch:155, TrainLoss:0.26259, TestLoss:0.26409, TrainAcc:0.71242, TestAcc:0.71328,\n",
      "Epoch:156, TrainLoss:0.26138, TestLoss:0.26369, TrainAcc:0.71302, TestAcc:0.71018,\n",
      "Epoch:157, TrainLoss:0.25978, TestLoss:0.26231, TrainAcc:0.71416, TestAcc:0.71182,\n",
      "Epoch:158, TrainLoss:0.26362, TestLoss:0.26142, TrainAcc:0.71057, TestAcc:0.71582,\n",
      "Epoch:159, TrainLoss:0.26238, TestLoss:0.25923, TrainAcc:0.71138, TestAcc:0.71801,\n",
      "tensor(6.4403, device='cuda:0') tensor(0.9809, device='cuda:0') tensor(93.0273, device='cuda:0') tensor(100.4485, device='cuda:0')\n",
      "Epoch:160, TrainLoss:0.26355, TestLoss:0.26183, TrainAcc:0.71239, TestAcc:0.71601,\n",
      "Epoch:161, TrainLoss:0.26025, TestLoss:0.26073, TrainAcc:0.71379, TestAcc:0.71522,\n",
      "Epoch:162, TrainLoss:0.26112, TestLoss:0.26237, TrainAcc:0.71237, TestAcc:0.71580,\n",
      "Epoch:163, TrainLoss:0.26128, TestLoss:0.26022, TrainAcc:0.71328, TestAcc:0.71878,\n",
      "Epoch:164, TrainLoss:0.26090, TestLoss:0.26168, TrainAcc:0.71160, TestAcc:0.71529,\n",
      "Epoch:165, TrainLoss:0.26118, TestLoss:0.26568, TrainAcc:0.71229, TestAcc:0.70987,\n",
      "Epoch:166, TrainLoss:0.25927, TestLoss:0.26310, TrainAcc:0.71353, TestAcc:0.71248,\n",
      "Epoch:167, TrainLoss:0.26228, TestLoss:0.26467, TrainAcc:0.71186, TestAcc:0.70992,\n",
      "Epoch:168, TrainLoss:0.26129, TestLoss:0.25892, TrainAcc:0.71267, TestAcc:0.71783,\n",
      "Epoch:169, TrainLoss:0.25945, TestLoss:0.26064, TrainAcc:0.71370, TestAcc:0.71608,\n",
      "tensor(5.2182, device='cuda:0') tensor(0.9627, device='cuda:0') tensor(67.3636, device='cuda:0') tensor(73.5445, device='cuda:0')\n",
      "Epoch:170, TrainLoss:0.26136, TestLoss:0.26436, TrainAcc:0.71291, TestAcc:0.71076,\n",
      "Epoch:171, TrainLoss:0.25981, TestLoss:0.26211, TrainAcc:0.71416, TestAcc:0.71358,\n",
      "Epoch:172, TrainLoss:0.26249, TestLoss:0.26599, TrainAcc:0.71219, TestAcc:0.70950,\n"
     ]
    },
    {
     "name": "stdout",
     "output_type": "stream",
     "text": [
      "Epoch:173, TrainLoss:0.26168, TestLoss:0.26828, TrainAcc:0.71263, TestAcc:0.71011,\n",
      "Epoch:174, TrainLoss:0.26175, TestLoss:0.26428, TrainAcc:0.71227, TestAcc:0.71194,\n",
      "Epoch:175, TrainLoss:0.26166, TestLoss:0.26130, TrainAcc:0.71334, TestAcc:0.71269,\n",
      "Epoch:176, TrainLoss:0.26306, TestLoss:0.26188, TrainAcc:0.71144, TestAcc:0.71333,\n",
      "Epoch:177, TrainLoss:0.26165, TestLoss:0.25959, TrainAcc:0.71129, TestAcc:0.71513,\n",
      "Epoch:178, TrainLoss:0.26293, TestLoss:0.26215, TrainAcc:0.71155, TestAcc:0.71357,\n",
      "Epoch:179, TrainLoss:0.26267, TestLoss:0.26691, TrainAcc:0.71104, TestAcc:0.70888,\n",
      "tensor(5.0174, device='cuda:0') tensor(0.9753, device='cuda:0') tensor(87.8182, device='cuda:0') tensor(93.8109, device='cuda:0')\n",
      "Epoch:180, TrainLoss:0.26101, TestLoss:0.26598, TrainAcc:0.71277, TestAcc:0.71155,\n",
      "Epoch:181, TrainLoss:0.26131, TestLoss:0.26332, TrainAcc:0.71417, TestAcc:0.71223,\n",
      "Epoch:182, TrainLoss:0.26102, TestLoss:0.26035, TrainAcc:0.71300, TestAcc:0.71349,\n",
      "Epoch:183, TrainLoss:0.26165, TestLoss:0.26171, TrainAcc:0.71326, TestAcc:0.71274,\n",
      "Epoch:184, TrainLoss:0.26108, TestLoss:0.26430, TrainAcc:0.71266, TestAcc:0.71244,\n",
      "Epoch:185, TrainLoss:0.26214, TestLoss:0.26399, TrainAcc:0.71222, TestAcc:0.71217,\n",
      "Epoch:186, TrainLoss:0.26119, TestLoss:0.26191, TrainAcc:0.71113, TestAcc:0.71465,\n",
      "Epoch:187, TrainLoss:0.26253, TestLoss:0.25799, TrainAcc:0.71307, TestAcc:0.71561,\n",
      "Epoch:188, TrainLoss:0.26175, TestLoss:0.26207, TrainAcc:0.71316, TestAcc:0.71260,\n",
      "Epoch:189, TrainLoss:0.26187, TestLoss:0.26864, TrainAcc:0.71439, TestAcc:0.70468,\n",
      "tensor(5.6331, device='cuda:0') tensor(0.9686, device='cuda:0') tensor(82.5485, device='cuda:0') tensor(89.1501, device='cuda:0')\n",
      "Epoch:190, TrainLoss:0.25996, TestLoss:0.26254, TrainAcc:0.71430, TestAcc:0.71331,\n",
      "Epoch:191, TrainLoss:0.25895, TestLoss:0.26332, TrainAcc:0.71343, TestAcc:0.71256,\n",
      "Epoch:192, TrainLoss:0.26125, TestLoss:0.26071, TrainAcc:0.71258, TestAcc:0.71414,\n",
      "Epoch:193, TrainLoss:0.25950, TestLoss:0.26347, TrainAcc:0.71387, TestAcc:0.71135,\n",
      "Epoch:194, TrainLoss:0.25909, TestLoss:0.25649, TrainAcc:0.71502, TestAcc:0.71817,\n",
      "Epoch:195, TrainLoss:0.25998, TestLoss:0.26440, TrainAcc:0.71483, TestAcc:0.71043,\n",
      "Epoch:196, TrainLoss:0.26192, TestLoss:0.26021, TrainAcc:0.71320, TestAcc:0.71451,\n",
      "Epoch:197, TrainLoss:0.25983, TestLoss:0.26170, TrainAcc:0.71409, TestAcc:0.70881,\n",
      "Epoch:198, TrainLoss:0.25725, TestLoss:0.25901, TrainAcc:0.71522, TestAcc:0.71534,\n",
      "Epoch:199, TrainLoss:0.25951, TestLoss:0.26215, TrainAcc:0.71358, TestAcc:0.70911,\n",
      "tensor(4.4849, device='cuda:0') tensor(0.9764, device='cuda:0') tensor(79.6300, device='cuda:0') tensor(85.0914, device='cuda:0')\n",
      "Epoch:200, TrainLoss:0.25857, TestLoss:0.26162, TrainAcc:0.71340, TestAcc:0.71405,\n"
     ]
    }
   ],
   "source": [
    "#开始训练\n",
    "train_Loss=[]\n",
    "test_Loss=[]\n",
    "train_Acc=[]\n",
    "test_Acc=[]\n",
    "\n",
    "allclass_acc=[]\n",
    "alldet_acc=[]\n",
    "\n",
    "def train(net, train_lodader, optimizer, lambd1=1e-4, lambd2=100, epoch=200):\n",
    "    net.init_weights()\n",
    "    scheduler = torch.optim.lr_scheduler.MultiStepLR(optimizer, milestones=[100,150], gamma=0.5)\n",
    "    #net.to(device)\n",
    "    for e in range(epoch):\n",
    "        Losses=[]\n",
    "        Acces=[]\n",
    "        for step, (batch_x, batch_y) in enumerate(train_loader):\n",
    "          #if step<300:  \n",
    "            scheduler.step()\n",
    "            optimizer.zero_grad()\n",
    "            batch_x=batch_x.to(device)    \n",
    "            batch_y=batch_y.to(device)\n",
    "            batch_y=batch_y.view(-1)\n",
    "            \n",
    "            x_bar,embedding,out = net(batch_x)            \n",
    "            Loss_L1_penalty = lambd1* L1_penalty(embedding)\n",
    "            loss_L2 = Loss_MSE(x_bar,batch_x)\n",
    "            loss_CE = lambd2 * Loss_CE(out,batch_y)\n",
    "            \n",
    "            loss = loss_L2 + Loss_L1_penalty + loss_CE\n",
    "            if step==0 and (e+1)%10==0:\n",
    "                print(loss_L2,Loss_L1_penalty,loss_CE,loss)\n",
    "\n",
    "            #反向传播      \n",
    "            loss.backward()\n",
    "            optimizer.step()\n",
    "\n",
    "            total = batch_y.size(0)\n",
    "            Losses.append(loss.item()/total)\n",
    "            \n",
    "            out=F.softmax(out,1)\n",
    "            _,index=out.max(dim=1)\n",
    "            acc=(index==batch_y).sum().cpu().numpy()       \n",
    "            Acces.append(acc/total)\n",
    "            \n",
    "        #print(Losses,Acces)        \n",
    "        if e==0: print('Epoch:0, TrainLoss:{:.5f},'.format(Losses[0]))\n",
    "        Loss,Acc,ACC,Det=val_AE(Sparse_AE,test_loader,lambd1=lambd1,lambd2=lambd2)\n",
    "        test_Loss.append(Loss)\n",
    "        train_Loss.append(np.mean(Losses))\n",
    "        test_Acc.append(Acc)\n",
    "        train_Acc.append(np.mean(Acces))\n",
    "        allclass_acc.append(ACC)\n",
    "        alldet_acc.append(Det)\n",
    "        print('Epoch:{}, TrainLoss:{:.5f}, TestLoss:{:.5f}, TrainAcc:{:.5f}, TestAcc:{:.5f},'.format(e+1, np.mean(Losses),Loss,np.mean(Acces), Acc ))     \n",
    "    \n",
    "train(Sparse_AE,train_loader,optimizer_SparseAE)\n"
   ]
  },
  {
   "cell_type": "code",
   "execution_count": 23,
   "metadata": {},
   "outputs": [
    {
     "name": "stdout",
     "output_type": "stream",
     "text": [
      "classication_acc [0.7842532467532467, 0.9613848202396804, 0.9724647414372062, 0.21664275466284075, 0.7860892388451444, 0.7579075425790754, 0.9936265137029955, 0.8147157190635451, 0.8859756097560976, 0.02435897435897436, 0.6249205340114431, 0.6172761664564943, 0.7673634524612273, 0.8291525423728814, 0.8797385620915033, 0.04217687074829932, 0.5953795379537954, 0.7865961199294532, 0.809555408095554, 0.702491103202847, 0.6820728291316527, 0.8938053097345132]\n",
      "det_acc [0.7842532467532467, 0.9980026631158455, 0.9879113498992612, 0.4483500717360115, 0.8595800524934383, 0.8880778588807786, 0.9980879541108987, 0.9645484949832775, 0.9908536585365854, 0.3858974358974359, 0.8855689764780674, 0.8644388398486759, 0.9885367498314228, 0.9661016949152542, 0.9758169934640523, 0.34285714285714286, 0.8706270627062707, 0.9412110523221634, 0.9024552090245521, 0.8263345195729538, 0.8508403361344538, 0.9222503160556258]\n",
      "mean 0.795947539848\n"
     ]
    }
   ],
   "source": [
    "print(\"classication_acc\",allclass_acc[-1])\n",
    "print(\"det_acc\",alldet_acc[-1])\n",
    "k=[1,2,4,5,6,7,8,10,11,12,13,14,16,17,18,19,20]\n",
    "det=[]\n",
    "for i in k:\n",
    "    det.append(alldet_acc[i])\n",
    "det_mean=np.mean(np.array(det))\n",
    "print(\"mean\",det_mean)"
   ]
  },
  {
   "cell_type": "code",
   "execution_count": 22,
   "metadata": {},
   "outputs": [
    {
     "name": "stdout",
     "output_type": "stream",
     "text": [
      "0.71982349537\n"
     ]
    },
    {
     "data": {
      "image/png": "[encoded data removed]",
      "text/plain": [
       "<matplotlib.figure.Figure at 0x7ffa7a8400b8>"
      ]
     },
     "metadata": {
      "needs_background": "light"
     },
     "output_type": "display_data"
    }
   ],
   "source": [
    "#迭代200次, lambd=1e-5\n",
    "print(test_Acc[-1])\n",
    "plt.plot(train_Loss[1:])\n",
    "plt.plot(test_Loss)\n",
    "plt.plot(train_Acc)\n",
    "plt.plot(test_Acc)\n",
    "plt.show()"
   ]
  },
  {
   "cell_type": "code",
   "execution_count": 33,
   "metadata": {},
   "outputs": [],
   "source": [
    "Sparse_AE.save_model(\"SparseAE_nodropout_epoch200.pth\")"
   ]
  },
  {
   "cell_type": "code",
   "execution_count": null,
   "metadata": {},
   "outputs": [],
   "source": [
    "Sparse_AE.load_model(\"SparseAE_epoch200.pth\")\n"
   ]
  },
  {
   "cell_type": "code",
   "execution_count": 34,
   "metadata": {},
   "outputs": [
    {
     "name": "stdout",
     "output_type": "stream",
     "text": [
      "tensor([[ 17,  17,  17,  17,  17,  17],\n",
      "        [ 18,  18,  18,  18,  18,  18],\n",
      "        [  2,   2,   2,   2,   2,   2],\n",
      "        [ 21,  21,  21,  21,  21,  21],\n",
      "        [ 18,  18,  18,  18,  18,  18],\n",
      "        [ 18,  18,  18,  18,  18,  18],\n",
      "        [ 15,  15,  15,  15,  15,  15],\n",
      "        [  8,   8,   8,   8,   8,   8],\n",
      "        [  8,   8,   8,   8,   8,   8],\n",
      "        [  1,   1,   1,   1,   1,   1],\n",
      "        [ 11,  11,  11,  11,  11,  11],\n",
      "        [ 10,  10,  10,  10,  10,  10],\n",
      "        [  6,   6,   6,   6,   6,   6],\n",
      "        [  1,   1,   1,   1,   1,   1],\n",
      "        [ 20,  20,  20,  20,  20,  20],\n",
      "        [  9,   9,   9,   9,   9,   9],\n",
      "        [  0,   0,   0,   0,   0,   0],\n",
      "        [  8,   8,   8,   8,   8,   8],\n",
      "        [ 17,  17,  17,  17,  17,  17],\n",
      "        [ 10,  10,  10,  10,  10,  10]])\n",
      "torch.Size([20, 6, 30]) tensor([[-0.9937, -0.9740, -0.9994,  0.3390,  0.9932, -0.8744,  0.4497,\n",
      "          0.7729,  0.9829, -0.9986,  1.0000,  1.0000,  0.1256, -0.9487,\n",
      "         -0.7550, -0.9999, -0.9565, -1.0000, -0.9100,  0.9986,  0.9851,\n",
      "         -0.9998,  0.9311,  0.9955, -0.9725,  0.9569, -0.9634, -0.7624,\n",
      "          0.3712,  0.9952],\n",
      "        [-0.5756, -0.8053, -0.9900,  0.9922,  0.9974,  0.7112, -0.9059,\n",
      "          0.5869, -0.4441,  0.8924,  1.0000,  1.0000, -0.6505, -0.8571,\n",
      "          0.9962, -0.9983, -0.9698, -0.7227, -0.9957,  0.9875,  0.9960,\n",
      "         -0.9982,  0.6526,  0.8654, -0.8231, -0.9961, -0.9986, -0.9913,\n",
      "         -0.8080,  0.9995],\n",
      "        [ 0.8750, -0.1332, -0.9439,  0.9908,  0.9345,  0.9751, -0.8039,\n",
      "          0.9630, -0.9766,  0.0220,  0.9989,  0.9968, -0.9818, -0.8739,\n",
      "          0.9614, -0.3801, -0.9846, -0.9834, -0.9989,  0.9982, -0.9972,\n",
      "         -0.2415, -0.9838, -0.9332, -0.9964, -0.8500, -0.9662, -0.9858,\n",
      "          0.9221,  0.9949],\n",
      "        [ 0.7728, -0.3298, -0.9525,  0.9091,  0.9772,  0.9944, -0.7774,\n",
      "          0.9618, -0.9335, -0.2897,  0.9997,  0.9969, -0.9794, -0.6226,\n",
      "          0.9750, -0.7538, -0.9807, -0.9801, -0.9976,  0.9979, -0.9937,\n",
      "         -0.5174, -0.9580, -0.5543, -0.9943, -0.9720, -0.9722, -0.9828,\n",
      "          0.8435,  0.9974],\n",
      "        [ 0.8974, -0.4904, -0.9924,  0.7735,  0.9909,  0.9996, -0.7098,\n",
      "          0.9272, -0.9871,  0.6604,  0.9993,  0.9817, -0.9675,  0.2592,\n",
      "          0.9665, -0.6920, -0.8474, -0.9696, -0.9971,  0.9915, -0.9995,\n",
      "         -0.1893, -0.9170, -0.0511, -0.9983, -0.8653, -0.9922, -0.9762,\n",
      "          0.9758,  0.9976],\n",
      "        [ 0.9357, -0.6376, -0.9873,  0.7096,  0.9947,  0.9994, -0.6134,\n",
      "          0.9568, -0.9814,  0.8046,  0.9994,  0.9891, -0.9690,  0.2804,\n",
      "          0.9804, -0.8740, -0.8996, -0.9673, -0.9977,  0.9976, -0.9986,\n",
      "         -0.0882, -0.9544, -0.4905, -0.9959, -0.9348, -0.9898, -0.9803,\n",
      "          0.9510,  0.9935]], device='cuda:0')\n"
     ]
    }
   ],
   "source": [
    "test_seq_x,test_seq_y=test_dataset[100:120]\n",
    "print(test_seq_y)\n",
    "Embedding = Sparse_AE.encoder(test_seq_x.cuda())\n",
    "print(Embedding.shape,Embedding[0,:,:])"
   ]
  },
  {
   "cell_type": "code",
   "execution_count": 35,
   "metadata": {},
   "outputs": [
    {
     "name": "stdout",
     "output_type": "stream",
     "text": [
      "tensor(0., device='cuda:0')\n"
     ]
    }
   ],
   "source": [
    "print((Embedding==0).sum().float()/(20*6*200))"
   ]
  },
  {
   "cell_type": "code",
   "execution_count": null,
   "metadata": {},
   "outputs": [],
   "source": []
  }
 ],
 "metadata": {
  "kernelspec": {
   "display_name": "Python 3",
   "language": "python",
   "name": "python3"
  },
  "language_info": {
   "codemirror_mode": {
    "name": "ipython",
    "version": 3
   },
   "file_extension": ".py",
   "mimetype": "text/x-python",
   "name": "python",
   "nbconvert_exporter": "python",
   "pygments_lexer": "ipython3",
   "version": "3.6.2"
  }
 },
 "nbformat": 4,
 "nbformat_minor": 2
}
